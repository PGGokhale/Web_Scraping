{
 "cells": [
  {
   "cell_type": "code",
   "execution_count": null,
   "metadata": {},
   "outputs": [],
   "source": [
    "from bs4 import BeautifulSoup\n",
    "from selenium import webdriver\n",
    "import urllib.parse\n",
    "BASE_URL = \"https://mars.nasa.gov/news/?page=0&per_page=40&order=publish_date+desc%2Ccreated_at+desc&search=&category=19%2C165%2C184%2C204&blank_scope=Latest\"\n",
    "FILE = \"html-selenium.txt\"\n",
    "FILE_WAIT = \"html-selenium-wait.txt\""
   ]
  },
  {
   "cell_type": "code",
   "execution_count": null,
   "metadata": {},
   "outputs": [],
   "source": [
    "# first try\n",
    "driver = webdriver.Firefox()\n",
    "driver.get(BASE_URL)\n",
    "html = driver.page_source\n",
    "with open(FILE, \"w+\", encoding=\"utf-8\") as f:\n",
    "    f.write(html)"
   ]
  },
  {
   "cell_type": "code",
   "execution_count": null,
   "metadata": {},
   "outputs": [],
   "source": [
    "# second try\n",
    "driver.get(BASE_URL)\n",
    "driver.implicitly_wait(10)\n",
    "html = driver.page_source\n",
    "driver.close()\n",
    "with open(FILE_WAIT, \"w+\", encoding=\"utf-8\") as f:\n",
    "    f.write(html)"
   ]
  },
  {
   "cell_type": "code",
   "execution_count": null,
   "metadata": {},
   "outputs": [],
   "source": [
    "soup = BeautifulSoup(html, \"html.parser\")\n",
    "title_div_class = \"image_and_description_container\"\n",
    "div_tags = soup.find_all(\"div\", class_=title_div_class)\n",
    "results = [\n",
    "    {\n",
    "        \"name\": div_tags.a.text,\n",
    "        \"url\": urllib.parse.urljoin(\"https://www.https://mars.nasa.gov/\", div_tags.a[\"href\"]),\n",
    "    }\n",
    "    for div_tag in div_tags\n",
    "]\n",
    "\n",
    "print(results)"
   ]
  }
 ],
 "metadata": {
  "kernelspec": {
   "display_name": "web_scraping_kernel",
   "language": "python",
   "name": "python3"
  },
  "language_info": {
   "codemirror_mode": {
    "name": "ipython",
    "version": 3
   },
   "file_extension": ".py",
   "mimetype": "text/x-python",
   "name": "python",
   "nbconvert_exporter": "python",
   "pygments_lexer": "ipython3",
   "version": "3.7.3"
  }
 },
 "nbformat": 4,
 "nbformat_minor": 4
}
